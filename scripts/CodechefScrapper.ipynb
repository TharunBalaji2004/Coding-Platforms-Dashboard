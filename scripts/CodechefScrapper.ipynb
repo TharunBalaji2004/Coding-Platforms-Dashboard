{
 "cells": [
  {
   "cell_type": "code",
   "execution_count": null,
   "metadata": {},
   "outputs": [],
   "source": [
    "import requests\n",
    "from bs4 import BeautifulSoup as bs\n",
    "import mysql.connector\n",
    "import time\n",
    "\n",
    "def codechef(link):\n",
    "    link = link.strip()\n",
    "    r = requests.get(link)\n",
    "    soup = bs(r.content,\"html.parser\")\n",
    "    div_number = soup.find(\"div\", {\"class\":\"rating-header text-center\"})\n",
    "\n",
    "    div_number = div_number.find_all(\"div\")\n",
    "    L = []\n",
    "    for tag in div_number:\n",
    "        L.append(tag.get_text())\n",
    "    rating = str(L[0]).strip(\"?i\\n    Provisional Rating, click to know more\")\n",
    "    div = str(L[1][-2])\n",
    "    star = len(str(L[2]))\n",
    "    print(rating, div, star)\n",
    "\n",
    "    return rating,div,star\n",
    "\n",
    "conn = mysql.connector.connect(host=\"localhost\",user=\"root\",passwd=\"562004\",database=\"codingdashboard\")\n",
    "cursor = conn.cursor()\n",
    "cursor.execute(\"SELECT REGISTERNUMBER,PROFILELINK FROM CSE_GENERAL_CC;\")\n",
    "results = cursor.fetchall()\n",
    "\n",
    "for row in results:\n",
    "    regno = row[0]\n",
    "    link = row[1]\n",
    "\n",
    "    print(\"RegNo: \",regno)\n",
    "    if (len(link) == 0):\n",
    "        L = ['0','0','0']\n",
    "    else:\n",
    "        link = link.strip()\n",
    "        L = codechef(link)\n",
    "    L = list(L)\n",
    "    L.append(regno)\n",
    "\n",
    "    query = \"UPDATE CSE_GENERAL_CC SET RATING={0}, DIV_NUM={1}, STAR={2} WHERE REGISTERNUMBER={3};\".format(L[0],L[1],L[2],L[3])\n",
    "    print(query)\n",
    "    cursor.execute(query)\n",
    "    cursor.execute(\"COMMIT;\")\n",
    "    conn.commit()\n",
    "\n",
    "conn.commit()\n",
    "conn.close()"
   ]
  }
 ],
 "metadata": {
  "language_info": {
   "name": "python"
  },
  "orig_nbformat": 4
 },
 "nbformat": 4,
 "nbformat_minor": 2
}
